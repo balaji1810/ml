{
 "cells": [
  {
   "cell_type": "code",
   "execution_count": null,
   "id": "507b3197",
   "metadata": {},
   "outputs": [],
   "source": [
    "import numpy as np\n",
    "import pandas as pd\n",
    "import matplotlib.pyplot as plt\n",
    "import seaborn as sns\n",
    "from sklearn.model_selection import train_test_split\n",
    "from collections import Counter"
   ]
  },
  {
   "cell_type": "code",
   "execution_count": null,
   "id": "31584dea",
   "metadata": {},
   "outputs": [],
   "source": [
    "def find_distance(a, b, p=1):\n",
    "    dim = len(a)\n",
    "    distance = 0\n",
    "    for d in range(dim):\n",
    "        distance += abs(a[d] - b[d]) ** p\n",
    "    distance = distance**(1/p)\n",
    "    return distance"
   ]
  },
  {
   "cell_type": "code",
   "execution_count": null,
   "id": "51267fbf",
   "metadata": {},
   "outputs": [],
   "source": [
    "def test_distance(test_point, train_points, y_train, k, p=1):\n",
    "    distances = []\n",
    "    for i in range(len(train_points)):\n",
    "        distances.append(find_distance(test_point, train_points[i], p))\n",
    "    df_distance = pd.DataFrame(data=distances, index=y_train.index,columns=[\"dist\"])\n",
    "    df_nn = df_distance.sort_values(by=[\"dist\"], axis=0)[:k]\n",
    "    return df_nn"
   ]
  },
  {
   "cell_type": "code",
   "execution_count": null,
   "id": "aeb18bab",
   "metadata": {},
   "outputs": [],
   "source": [
    "def return_most_common(y, df_nn):\n",
    "    counter = Counter(y[df_nn.index])\n",
    "    return counter.most_common()[0][0]"
   ]
  },
  {
   "cell_type": "code",
   "execution_count": null,
   "id": "6e9d5d6f",
   "metadata": {},
   "outputs": [],
   "source": [
    "from sklearn.preprocessing import StandardScaler"
   ]
  },
  {
   "cell_type": "code",
   "execution_count": null,
   "id": "438400e9",
   "metadata": {},
   "outputs": [],
   "source": [
    "def knn_predict(X_train, y_train, X_test, k=5, p=1):\n",
    "    y_predicted_data = []\n",
    "    for test_point in X_test:\n",
    "        distances = test_distance(test_point, X_train, y_train, k, p)\n",
    "        prediction = return_most_common(y_train, distances)\n",
    "        y_predicted_data.append(prediction)\n",
    "    return y_predicted_data"
   ]
  },
  {
   "cell_type": "code",
   "execution_count": null,
   "id": "dfbe11c5",
   "metadata": {},
   "outputs": [],
   "source": [
    "from sklearn.metrics import accuracy_score"
   ]
  },
  {
   "cell_type": "code",
   "execution_count": null,
   "id": "a326fe63",
   "metadata": {},
   "outputs": [],
   "source": [
    "glass_data = pd.read_csv(\"glass.csv\")\n",
    "glass_data.head()"
   ]
  },
  {
   "cell_type": "code",
   "execution_count": null,
   "id": "62a4ae24",
   "metadata": {},
   "outputs": [],
   "source": [
    "glass_data.isnull().sum()"
   ]
  },
  {
   "cell_type": "code",
   "execution_count": null,
   "id": "7d543259",
   "metadata": {},
   "outputs": [],
   "source": [
    "X = glass_data.drop(\"Type\", axis=1)\n",
    "X"
   ]
  },
  {
   "cell_type": "code",
   "execution_count": null,
   "id": "4e7dc1d8",
   "metadata": {},
   "outputs": [],
   "source": [
    "y = glass_data[\"Type\"]\n",
    "y"
   ]
  },
  {
   "cell_type": "code",
   "execution_count": null,
   "id": "7fd6e8dd",
   "metadata": {},
   "outputs": [],
   "source": [
    "def predict(X, y):\n",
    "    np.random.seed(42)\n",
    "    test_sizes = [0.3, 0.1]\n",
    "    k_values = [3, 5, 7]\n",
    "    p_values = [1, 2]\n",
    "    print(\"=\"*40)\n",
    "    for k in k_values:\n",
    "        print(f\"For k value = {k}\")\n",
    "        for size in test_sizes:\n",
    "            print(f\"For test size = {size}\")\n",
    "            X_train, X_test, y_train, y_test = train_test_split(X, y, test_size=size, random_state=125)\n",
    "            scaler = StandardScaler()\n",
    "            X_train = scaler.fit_transform(X_train)\n",
    "            X_test = scaler.transform(X_test)\n",
    "            for p in p_values:\n",
    "                if p == 2:\n",
    "                    print(\"For Euclidean distance:\")\n",
    "                else:\n",
    "                    print(\"For Manhattan distance:\")\n",
    "                y_preds = knn_predict(X_train, y_train, X_test, k=k, p=p)\n",
    "                print(\"Accuracy score is: \", accuracy_score(y_test, y_preds))\n",
    "            print(\"-\"*30)\n",
    "        print(\"=\"*40)"
   ]
  },
  {
   "cell_type": "code",
   "execution_count": null,
   "id": "cb1c16b4",
   "metadata": {},
   "outputs": [],
   "source": [
    "def predict_leave_one_out(X, y):\n",
    "    np.random.seed(42)\n",
    "    k_values = [3, 5, 7]\n",
    "    p_values = [1, 2]\n",
    "    for k in k_values:\n",
    "        print(f\"For k value = {k}\")\n",
    "        print(\"For leave one out\")\n",
    "        for p in p_values:\n",
    "            if p == 2:\n",
    "                print(\"For Euclidean distance:\")\n",
    "            else:\n",
    "                print(\"For Manhattan distance:\")\n",
    "            scores = []\n",
    "            for i in range(100):\n",
    "                random_idx = np.random.choice(range(len(X)))\n",
    "                X_train, X_test = X.drop(random_idx, axis=0), X.iloc[random_idx]\n",
    "                y_train, y_test = y.drop(random_idx, axis=0), y.iloc[random_idx]\n",
    "                scaler = StandardScaler()\n",
    "                X_train = scaler.fit_transform(X_train)\n",
    "                X_test = X_test.to_numpy()\n",
    "                X_test = X_test.reshape(1, -1)\n",
    "                X_test = scaler.transform(X_test)\n",
    "                y_preds = knn_predict(X_train, y_train, X_test, k=k, p=p)\n",
    "                if y_preds[0] == y_test:\n",
    "                    scores.append(1)\n",
    "                else:\n",
    "                    scores.append(0)\n",
    "            scores = pd.DataFrame(data=scores, columns=[\"score\"])\n",
    "            scores = scores.value_counts()\n",
    "            print(\"Percentage of correct predictions: \", (scores[0]/sum(scores))*100, \"%\")\n",
    "        print(\"=\"*40)"
   ]
  },
  {
   "cell_type": "code",
   "execution_count": null,
   "id": "6aacc81d",
   "metadata": {},
   "outputs": [],
   "source": [
    "import warnings\n",
    "warnings.filterwarnings(\"ignore\")"
   ]
  },
  {
   "cell_type": "code",
   "execution_count": null,
   "id": "d5ef0f7f",
   "metadata": {},
   "outputs": [],
   "source": [
    "glass_data = pd.read_csv(\"glass.csv\")\n",
    "glass_data"
   ]
  },
  {
   "cell_type": "code",
   "execution_count": null,
   "id": "c64fc3e8",
   "metadata": {},
   "outputs": [],
   "source": [
    "X = glass_data.drop(\"Type\", axis=1)\n",
    "X"
   ]
  },
  {
   "cell_type": "code",
   "execution_count": null,
   "id": "2ebdf556",
   "metadata": {},
   "outputs": [],
   "source": [
    "y = glass_data[\"Type\"]\n",
    "y"
   ]
  },
  {
   "cell_type": "code",
   "execution_count": null,
   "id": "d0bb4805",
   "metadata": {},
   "outputs": [],
   "source": [
    "predict(X, y)"
   ]
  },
  {
   "cell_type": "code",
   "execution_count": null,
   "id": "a121e0f8",
   "metadata": {},
   "outputs": [],
   "source": [
    "predict_leave_one_out(X, y)"
   ]
  },
  {
   "cell_type": "code",
   "execution_count": null,
   "id": "b2307b77",
   "metadata": {},
   "outputs": [],
   "source": [
    "fruit_data = pd.read_table('fruits.txt')\n",
    "fruit_data"
   ]
  },
  {
   "cell_type": "code",
   "execution_count": null,
   "id": "ecb1950e",
   "metadata": {},
   "outputs": [],
   "source": [
    "fruit_data.drop(\"fruit_subtype\", axis=1, inplace=True)\n",
    "fruits = fruit_data.drop(\"fruit_name\", axis=1)"
   ]
  },
  {
   "cell_type": "code",
   "execution_count": null,
   "id": "42594456",
   "metadata": {},
   "outputs": [],
   "source": [
    "fruits"
   ]
  },
  {
   "cell_type": "code",
   "execution_count": null,
   "id": "8e6fe215",
   "metadata": {},
   "outputs": [],
   "source": [
    "X = fruits.drop(\"fruit_label\", axis=1)\n",
    "X"
   ]
  },
  {
   "cell_type": "code",
   "execution_count": null,
   "id": "cd9c82ad",
   "metadata": {},
   "outputs": [],
   "source": [
    "y = fruits[\"fruit_label\"]\n",
    "y"
   ]
  },
  {
   "cell_type": "code",
   "execution_count": null,
   "id": "53300aa4",
   "metadata": {},
   "outputs": [],
   "source": [
    "predict(X, y)"
   ]
  },
  {
   "cell_type": "code",
   "execution_count": null,
   "id": "790e19a0",
   "metadata": {},
   "outputs": [],
   "source": [
    "predict_leave_one_out(X, y)"
   ]
  }
 ],
 "metadata": {
  "kernelspec": {
   "display_name": "Python 3 (ipykernel)",
   "language": "python",
   "name": "python3"
  },
  "language_info": {
   "codemirror_mode": {
    "name": "ipython",
    "version": 3
   },
   "file_extension": ".py",
   "mimetype": "text/x-python",
   "name": "python",
   "nbconvert_exporter": "python",
   "pygments_lexer": "ipython3",
   "version": "3.9.13"
  }
 },
 "nbformat": 4,
 "nbformat_minor": 5
}
