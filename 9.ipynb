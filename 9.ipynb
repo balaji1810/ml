{
 "cells": [
  {
   "cell_type": "code",
   "execution_count": null,
   "id": "ed208bff",
   "metadata": {},
   "outputs": [],
   "source": [
    "import numpy as np\n",
    "import matplotlib.pyplot as plt\n",
    "from scipy.cluster.hierarchy import dendrogram, linkage\n",
    "from sklearn.datasets import load_iris\n",
    "\n",
    "iris = load_iris()\n",
    "data = iris.data[:5]\n",
    "print(data)\n",
    "\n",
    "def single_linkage(data):\n",
    "    n = data.shape[0]\n",
    "    proximity_matrix = np.zeros((n, n))\n",
    "   \n",
    "    for i in range(n):\n",
    "        for j in range(i+1, n):\n",
    "            proximity_matrix[i, j] = np.min(np.linalg.norm(data[i] - data[j]))\n",
    "            proximity_matrix[j, i] = proximity_matrix[i, j]\n",
    "   \n",
    "    return proximity_matrix\n",
    "\n",
    "def complete_linkage(data):\n",
    "    n = data.shape[0]\n",
    "    proximity_matrix = np.zeros((n, n))\n",
    "   \n",
    "    for i in range(n):\n",
    "        for j in range(i+1, n):\n",
    "            proximity_matrix[i, j] = np.max(np.linalg.norm(data[i] - data[j]))\n",
    "            proximity_matrix[j, i] = proximity_matrix[i, j]\n",
    "   \n",
    "    return proximity_matrix\n",
    "\n",
    "single_linkage_matrix = single_linkage(data)\n",
    "print(\"Single-linkage proximity matrix:\")\n",
    "print(single_linkage_matrix)\n",
    "\n",
    "complete_linkage_matrix = complete_linkage(data)\n",
    "print(\"\\nComplete-linkage proximity matrix:\")\n",
    "print(complete_linkage_matrix)\n",
    "\n",
    "linkage_matrix = linkage(data, method='single')\n",
    "plt.figure(figsize=(10, 5))\n",
    "dendrogram(linkage_matrix)\n",
    "plt.title('Dendrogram - Single Linkage')\n",
    "plt.xlabel('Data Points')\n",
    "plt.ylabel('Distance')\n",
    "plt.show()\n",
    "\n",
    "linkage_matrix = linkage(data, method='complete')\n",
    "plt.figure(figsize=(10, 5))\n",
    "dendrogram(linkage_matrix)\n",
    "plt.title('Dendrogram - Complete Linkage')\n",
    "plt.xlabel('Data Points')\n",
    "plt.ylabel('Distance')\n",
    "plt.show()"
   ]
  }
 ],
 "metadata": {
  "kernelspec": {
   "display_name": "Python 3 (ipykernel)",
   "language": "python",
   "name": "python3"
  },
  "language_info": {
   "codemirror_mode": {
    "name": "ipython",
    "version": 3
   },
   "file_extension": ".py",
   "mimetype": "text/x-python",
   "name": "python",
   "nbconvert_exporter": "python",
   "pygments_lexer": "ipython3",
   "version": "3.9.13"
  }
 },
 "nbformat": 4,
 "nbformat_minor": 5
}
